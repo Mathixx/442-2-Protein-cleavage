{
 "cells": [
  {
   "cell_type": "code",
   "execution_count": 1,
   "metadata": {},
   "outputs": [],
   "source": [
    "###########################\n",
    "### MODULES NECESSAIRES ###\n",
    "###########################\n",
    "\n",
    "\n",
    "# Import the necessary libraries\n",
    "import numpy as np\n",
    "import pandas as pd\n",
    "import math\n",
    "\n",
    "from sklearn import svm\n",
    "from sklearn.model_selection import train_test_split\n",
    "from sklearn.metrics import accuracy_score\n",
    "from sklearn.preprocessing import LabelEncoder\n",
    "from sklearn import svm\n",
    "\n",
    "from auxFonctions import AminoAcid"
   ]
  },
  {
   "cell_type": "code",
   "execution_count": 2,
   "metadata": {},
   "outputs": [],
   "source": [
    "# Read data from a file into a list of entries\n",
    "with open('data/SIG_13.red', 'r') as file:\n",
    "    entries = file.read().split('\\n   ')\n",
    "\n",
    "# Define a function to process each entry in the data file\n",
    "def process_entry(entry):\n",
    "    try:\n",
    "        lines = entry.split('\\n')\n",
    "        protein_id, primary_structure, annotation = lines\n",
    "        return {\n",
    "            'Protein ID': protein_id.split()[1],\n",
    "            'Primary Structure': primary_structure,\n",
    "            'Annotation': annotation\n",
    "        }\n",
    "    except:\n",
    "        print(entry)"
   ]
  },
  {
   "cell_type": "code",
   "execution_count": 3,
   "metadata": {},
   "outputs": [],
   "source": [
    "##############################\n",
    "## RECUPERATION DES DONNÉES ##\n",
    "##############################\n",
    "\n",
    "\n",
    "# Process each entry\n",
    "processed_entries = [process_entry(entry) for entry in entries]\n",
    "\n",
    "# Create a DataFrame\n",
    "df = pd.DataFrame(processed_entries)\n",
    "\n",
    "# Get the position of the cleavage site\n",
    "cleavage_site_position = df['Annotation'].apply(lambda x: x.find('C'))\n",
    "\n",
    "# Split the primary structure into a list of amino acids\n",
    "amino_acid_seq = df['Primary Structure'].apply(lambda x: list(x))"
   ]
  },
  {
   "cell_type": "markdown",
   "metadata": {},
   "source": [
    "## Traitement des données"
   ]
  },
  {
   "cell_type": "markdown",
   "metadata": {},
   "source": [
    "Put words in vector and vice versa"
   ]
  },
  {
   "cell_type": "code",
   "execution_count": 4,
   "metadata": {},
   "outputs": [],
   "source": [
    "# Define a mapping from letters to integer codes\n",
    "le = LabelEncoder()\n",
    "le.fit(list(map(chr, range(ord('A'), ord('Z')+1))))\n",
    "\n",
    "\n",
    "def word_to_vector(word):\n",
    "    # Define a function to encode a word as a vector\n",
    "    vec = np.zeros(26 * len(word))\n",
    "    for i, char in enumerate(word):\n",
    "        vec[i * 26 + le.transform([char])[0]] = 1\n",
    "    return vec\n",
    "\n",
    "def vector_to_word(vec):\n",
    "    # Define a function to decode a vector into a word\n",
    "    word = ''\n",
    "    for i in range(0, len(vec), 26):\n",
    "        word += le.inverse_transform([np.argmax(vec[i:i+26])])[0]\n",
    "    return word"
   ]
  },
  {
   "cell_type": "code",
   "execution_count": 5,
   "metadata": {},
   "outputs": [],
   "source": [
    "def convert_df_to_vectors(df):\n",
    "    '''\n",
    "    Convert the dataframe to a format that can be used for training a classifier\n",
    "    add a column 'Annotation_pos' that contains the position of the cleavage site\n",
    "    add a column 'P_Structure_vector' that contains the primary structure as a vector\n",
    "    '''\n",
    "    df_exploitable = df.copy()\n",
    "    df_exploitable['Annotation_pos'] = df_exploitable['Annotation'].apply(lambda x: x.find('C'))\n",
    "    df_exploitable['P_Structure_vector'] = df_exploitable['Primary Structure'].apply(word_to_vector)\n",
    "    return df_exploitable\n",
    "\n",
    "df_exploitable = convert_df_to_vectors(df)"
   ]
  },
  {
   "cell_type": "code",
   "execution_count": 6,
   "metadata": {},
   "outputs": [],
   "source": [
    "# Extract a random subsequence of length n\n",
    "\n",
    "nb_letters = 26  # number of different letters in the alphabet\n",
    "def extract_random_subsequence(row, n:int):\n",
    "    '''\n",
    "    Extract a random subsequence of length n from the primary structure and the annotation\n",
    "    ### Parameters:\n",
    "    - row: a row of the dataframe\n",
    "    - n: the length of the subsequence\n",
    "    ### Returns:\n",
    "    - a pandas series containing the subsequence of the primary structure, the subsequence of the annotation, the subsequence of the primary structure as a vector and the position of the cleavage site in the subsequence\n",
    "    '''\n",
    "    max_start_index = max(0, len(row['Primary Structure']) - n)  # Calculate the maximum possible start index\n",
    "    if max_start_index == 0:\n",
    "        start_index = 0  # if chain is too short, start at the beginning\n",
    "    else:\n",
    "        start_index = np.random.randint(0, max_start_index)  # Randomly select a start index\n",
    "    end_index = start_index + n  # Calculer l'indice de fin\n",
    "\n",
    "    pos = row['Annotation_pos'] - start_index  # Calculate the position of the cleavage site in the subsequence\n",
    "    if pos < 0 or pos >= n:\n",
    "        pos = math.nan\n",
    "         # If the cleavage site is not in the subsequence, set it to Nan\n",
    "        \n",
    "\n",
    "    return pd.Series([row['Primary Structure'][start_index:end_index], row['Annotation'][start_index:end_index], row['P_Structure_vector'][start_index*26:end_index*26], pos], index=['Primary Structure', 'Annotation', 'P_Structure_vector', 'Annotation_pos'])\n"
   ]
  },
  {
   "cell_type": "code",
   "execution_count": 22,
   "metadata": {},
   "outputs": [],
   "source": [
    "def test_train_split_random_pos(df, n ,test_size=0.2, random_state=42):\n",
    "    '''\n",
    "    Split the data into training and testing sets\n",
    "    ### Parameters:\n",
    "    - df: the dataframe containing the data\n",
    "    - n: the length of the subsequence\n",
    "    - test_size: the proportion of the data to include in the test split\n",
    "    - random_state: the seed for the random number generator\n",
    "    ### Returns:\n",
    "    - X_train: the training set\n",
    "    - X_test: the testing set\n",
    "    - pos_train: the position of the cleavage site in the training set\n",
    "    - pos_test: the position of the cleavage site in the testing set\n",
    "    '''\n",
    "    \n",
    "    df_random = df.apply(extract_random_subsequence, axis=1, n=n)\n",
    "    X = np.array(df_random['P_Structure_vector'].tolist())\n",
    "    y = np.array(df_random['Annotation_pos'].tolist())\n",
    "    X_train, X_test, pos_train, pos_test = train_test_split(X, y, test_size=test_size, random_state=random_state)\n",
    "    \"\"\"\n",
    "    test_size=0.2: This argument specifies the proportion of the dataset to include in the test split. \n",
    "    In this case, 20% of the data will be used for testing, and the remaining 80% will be used for training\n",
    "\n",
    "    random_state=42: This argument sets the seed for the random number generator that shuffles the data before splitting. \n",
    "    Setting a specific seed (like 42 in this case) ensures that the output is reproducible, i.e., \n",
    "    you'll get the same train/test split each time you run the code.\n",
    "    \"\"\"\n",
    "\n",
    "\n",
    "\n",
    "    return X_train, X_test, pos_train, pos_test"
   ]
  },
  {
   "cell_type": "code",
   "execution_count": 23,
   "metadata": {},
   "outputs": [],
   "source": [
    "n = 8  # length of the subsequence\n",
    "svm_model_in = svm.SVC(kernel='rbf', C=1, random_state=42)\n",
    "\n",
    "svm_model_pos = svm.SVC(kernel='linear', C=1, random_state=42)\n",
    "\n",
    "def find_cleavage(X, svm_model_in = svm_model_in, svm_model_pos = svm_model_pos, threshold = 0.5, nb_letters = 26, n = n):\n",
    "    '''\n",
    "    find the position of the cleavage site in the primary structure using two SVM models\n",
    "    /!\\ the models must be trained before using this function with the same n and nb_letters as the ones used in this function\n",
    "    ### Parameters:\n",
    "    - X: the primary structure as a vector\n",
    "    - svm_model_in: the SVM model that predicts if the subsequence contains the cleavage site\n",
    "    - svm_model_pos: the SVM model that predicts the position of the cleavage site in the subsequence\n",
    "    - threshold: the threshold for the confidence of the prediction\n",
    "    ### Returns:\n",
    "    - the position of the cleavage site if the prediction is confident enough, otherwise Nan\n",
    "    '''\n",
    "    proba_position = []\n",
    "    containing = False\n",
    "    for i in range(0, len(X)- n*nb_letters, nb_letters):\n",
    "        test_sub = X[i:i + n*nb_letters]\n",
    "        \n",
    "        if svm_model_in.predict([test_sub]):\n",
    "            containing = True\n",
    "            position = svm_model_pos.predict([test_sub])+i//26\n",
    "            proba_position.append(position.item())\n",
    "    if containing:\n",
    "        pos_pred = max(set(proba_position), key = proba_position.count)\n",
    "        if proba_position.count(pos_pred)/n > threshold:\n",
    "            return pos_pred\n",
    "        # else :\n",
    "            # print(proba_position.count(pos_pred)/n)\n",
    "    return math.nan\n"
   ]
  },
  {
   "cell_type": "markdown",
   "metadata": {},
   "source": [
    "Train"
   ]
  },
  {
   "cell_type": "code",
   "execution_count": 24,
   "metadata": {},
   "outputs": [
    {
     "name": "stdout",
     "output_type": "stream",
     "text": [
      "0.8495575221238938\n",
      "0.38235294117647056\n"
     ]
    }
   ],
   "source": [
    "# cut the dataframe into 80-20\n",
    "df_train = df_exploitable.sample(frac=0.8, random_state=42)\n",
    "df_test = df_exploitable.drop(df_train.index)\n",
    "\n",
    "# identify if there is a cleavage site in the subsequence\n",
    "X_train, X_test, pos_train, pos_test = test_train_split_random_pos(df_train, n, random_state=np.random.randint(0, 1000))\n",
    "\n",
    "in_train = ~np.isnan(pos_train)\n",
    "\n",
    "in_test = ~np.isnan(pos_test)\n",
    "\n",
    "\n",
    "svm_model_in.fit(X_train, in_train)\n",
    "in_pred = svm_model_in.predict(X_test)\n",
    "print(accuracy_score(in_test, in_pred))\n",
    "\n",
    "# Locate the cleavage site in the subsequence\n",
    "X_in_train = X_train[in_train==1]\n",
    "pos_train = pos_train[~np.isnan(pos_train)]\n",
    "svm_model_pos.fit(X_in_train, pos_train)\n",
    "pos_pred = svm_model_pos.predict(X_test[in_test==1])\n",
    "print(accuracy_score(pos_test[in_test==1], pos_pred))\n",
    "\n"
   ]
  },
  {
   "cell_type": "code",
   "execution_count": 26,
   "metadata": {},
   "outputs": [
    {
     "name": "stdout",
     "output_type": "stream",
     "text": [
      "0.028368794326241134\n"
     ]
    }
   ],
   "source": [
    "\n",
    "\n",
    "\n",
    "pos_pred = np.array([find_cleavage(X,threshold = 0.1) for X in df_test['P_Structure_vector']])\n",
    "\n",
    "in_pred = 1-np.isnan(pos_pred)\n",
    "\n",
    "pos_pred[in_pred == 0] = 0\n",
    "\n",
    "print(accuracy_score(df_test[\"Annotation_pos\"], pos_pred))"
   ]
  }
 ],
 "metadata": {
  "kernelspec": {
   "display_name": "base",
   "language": "python",
   "name": "python3"
  },
  "language_info": {
   "codemirror_mode": {
    "name": "ipython",
    "version": 3
   },
   "file_extension": ".py",
   "mimetype": "text/x-python",
   "name": "python",
   "nbconvert_exporter": "python",
   "pygments_lexer": "ipython3",
   "version": "3.10.9"
  }
 },
 "nbformat": 4,
 "nbformat_minor": 2
}
