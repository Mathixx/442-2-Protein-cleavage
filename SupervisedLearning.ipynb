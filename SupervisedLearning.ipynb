{
 "cells": [
  {
   "cell_type": "code",
   "execution_count": 27,
   "metadata": {},
   "outputs": [],
   "source": [
    "###########################\n",
    "### MODULES NECESSAIRES ###\n",
    "###########################\n",
    "\n",
    "\n",
    "# Import the necessary libraries\n",
    "import numpy as np\n",
    "import pandas as pd\n",
    "import math\n",
    "import fonctionsSupervisedLearning as fsl\n",
    "\n",
    "from sklearn import svm\n",
    "from sklearn.model_selection import train_test_split\n",
    "from sklearn.metrics import accuracy_score\n",
    "from sklearn.preprocessing import LabelEncoder\n",
    "from sklearn import svm\n",
    "\n",
    "from auxFonctions import AminoAcid"
   ]
  },
  {
   "cell_type": "code",
   "execution_count": 28,
   "metadata": {},
   "outputs": [],
   "source": [
    "# Read data from a file into a list of entries\n",
    "with open('data/SIG_13.red', 'r') as file:\n",
    "    entries = file.read().split('\\n   ')\n",
    "\n"
   ]
  },
  {
   "cell_type": "code",
   "execution_count": 29,
   "metadata": {},
   "outputs": [],
   "source": [
    "##############################\n",
    "## RECUPERATION DES DONNÉES ##\n",
    "##############################\n",
    "\n",
    "\n",
    "# Process each entry\n",
    "processed_entries = [fsl.process_entry(entry) for entry in entries]\n",
    "\n",
    "# Create a DataFrame\n",
    "df = pd.DataFrame(processed_entries)\n",
    "\n",
    "# Get the position of the cleavage site\n",
    "cleavage_site_position = df['Annotation'].apply(lambda x: x.find('C'))\n",
    "\n",
    "# Split the primary structure into a list of amino acids\n",
    "amino_acid_seq = df['Primary Structure'].apply(lambda x: list(x))"
   ]
  },
  {
   "cell_type": "markdown",
   "metadata": {},
   "source": [
    "## Traitement des données"
   ]
  },
  {
   "cell_type": "markdown",
   "metadata": {},
   "source": [
    "Put words in vector and vice versa"
   ]
  },
  {
   "cell_type": "code",
   "execution_count": 30,
   "metadata": {},
   "outputs": [],
   "source": [
    "df_exploitable = fsl.convert_df_to_vectors(df)"
   ]
  },
  {
   "cell_type": "code",
   "execution_count": 31,
   "metadata": {},
   "outputs": [],
   "source": [
    "n = 17  # length of the subsequence\n",
    "svm_model_in = svm.SVC(kernel='rbf', C=1, random_state=42)\n",
    "\n",
    "svm_model_pos = svm.SVC(kernel='linear', C=1, random_state=42)\n",
    "\n",
    "\n"
   ]
  },
  {
   "cell_type": "markdown",
   "metadata": {},
   "source": [
    "Train"
   ]
  },
  {
   "cell_type": "code",
   "execution_count": 35,
   "metadata": {},
   "outputs": [
    {
     "name": "stdout",
     "output_type": "stream",
     "text": [
      "Fitting 5 folds for each of 60 candidates, totalling 300 fits\n",
      "Best parameters for inclusion model: {'C': 1, 'gamma': 'scale', 'kernel': 'sigmoid'}\n",
      "Best score for inclusion model: 0.7055672306848366\n"
     ]
    }
   ],
   "source": [
    "# svm_model_in, svm_model_pos, accuracy_in, accuracy_pos = fsl.create_model(12, df_exploitable, random_state=42, nb_letters = 26, kernel_in = 'rbf', kernel_pos = 'linear', C_in = 1, C_pos = 1)\n",
    "\n",
    "# df_exploitable_100 = df_exploitable.iloc[:,1:100]\n",
    "\n",
    "# C_list = [0.1,1,2]\n",
    "# kernel_list = ['linear', 'rbf', 'sigmoid', 'poly']\n",
    "# n_list = [7, 12, 17]\n",
    "# results = []\n",
    "\n",
    "# for C_in in C_list:\n",
    "#     for C_pos in C_list:\n",
    "#         for kernel_in in kernel_list:\n",
    "#             for kernel_pos in kernel_list:\n",
    "#                 for n in n_list:\n",
    "#                     svm_model_in, svm_model_pos, accuracy_in, accuracy_pos = fsl.create_model(n, df_exploitable.iloc[:,1:100], random_state=42, nb_letters = 26, kernel_in = kernel_in, kernel_pos = kernel_pos, C_in = C_in, C_pos = C_pos)\n",
    "#                     results.append((C_in, C_pos, kernel_in, kernel_pos, n, accuracy_in, accuracy_pos))\n",
    "\n",
    "# results_df = pd.DataFrame(results, columns=['C_in', 'C_pos', 'kernel_in', 'kernel_pos', 'n', 'accuracy_in', 'accuracy_pos'])\n",
    "# results_df.to_csv('results.csv', index=False)\n",
    "X_train, X_test, pos_train, pos_test = fsl.test_train_split_random_pos(df_exploitable, n, random_state=42)\n",
    "in_train = ~np.isnan(pos_train)\n",
    "in_test = ~np.isnan(pos_test)\n",
    "\n",
    "\n",
    "\n",
    "X_in_train = X_train[in_train==1]\n",
    "pos_train = pos_train[~np.isnan(pos_train)]\n",
    "\n",
    "from sklearn.model_selection import GridSearchCV\n",
    "\n",
    "# Define the parameter grid to search\n",
    "param_grid_in = {\n",
    "    'C': [0.1, 1, 10, 100],  # Regularization parameter\n",
    "    'gamma': ['scale', 'auto', 0.01, 0.1, 1],  # Kernel coefficient for 'rbf', 'poly' and 'sigmoid'\n",
    "    'kernel': ['rbf', 'poly', 'sigmoid']  # Different types of kernels\n",
    "}\n",
    "\n",
    "# Initialize the classifier\n",
    "svm_model_in = svm.SVC(random_state=42, class_weight='balanced')  # Using balanced class weights\n",
    "\n",
    "# Setup the GridSearchCV\n",
    "grid_search_in = GridSearchCV(svm_model_in, param_grid_in, cv=5, scoring='f1', verbose=2, n_jobs=-1)\n",
    "\n",
    "# Assuming X_train and in_train have been defined as your features and target variable respectively\n",
    "grid_search_in.fit(X_train, in_train)\n",
    "best_in_model = grid_search_in.best_estimator_\n",
    "\n",
    "print(\"Best parameters for inclusion model:\", grid_search_in.best_params_)\n",
    "print(\"Best score for inclusion model:\", grid_search_in.best_score_)\n"
   ]
  },
  {
   "cell_type": "code",
   "execution_count": 34,
   "metadata": {},
   "outputs": [
    {
     "name": "stdout",
     "output_type": "stream",
     "text": [
      "Fitting 5 folds for each of 60 candidates, totalling 300 fits\n"
     ]
    },
    {
     "name": "stderr",
     "output_type": "stream",
     "text": [
      "c:\\Users\\rabas\\anaconda3\\lib\\site-packages\\sklearn\\model_selection\\_search.py:952: UserWarning: One or more of the test scores are non-finite: [nan nan nan nan nan nan nan nan nan nan nan nan nan nan nan nan nan nan\n",
      " nan nan nan nan nan nan nan nan nan nan nan nan nan nan nan nan nan nan\n",
      " nan nan nan nan nan nan nan nan nan nan nan nan nan nan nan nan nan nan\n",
      " nan nan nan nan nan nan]\n",
      "  warnings.warn(\n"
     ]
    },
    {
     "name": "stdout",
     "output_type": "stream",
     "text": [
      "Best parameters for position model: {'C': 0.1, 'gamma': 'scale', 'kernel': 'rbf'}\n",
      "Best score for position model: nan\n"
     ]
    }
   ],
   "source": [
    "svm_model_pos = svm.SVC(random_state=42, class_weight='balanced')  # Using balanced class weights\n",
    "grid_search_pos = GridSearchCV(svm_model_pos, param_grid_in, cv=5, scoring='f1', verbose=2, n_jobs=-1)\n",
    "\n",
    "grid_search_pos.fit(X_in_train, pos_train)\n",
    "best_pos_model = grid_search_pos.best_estimator_\n",
    "\n",
    "print(\"Best parameters for position model:\", grid_search_pos.best_params_)\n",
    "print(\"Best score for position model:\", grid_search_pos.best_score_)"
   ]
  },
  {
   "cell_type": "code",
   "execution_count": null,
   "metadata": {},
   "outputs": [
    {
     "ename": "NameError",
     "evalue": "name 'fsl' is not defined",
     "output_type": "error",
     "traceback": [
      "\u001b[1;31m---------------------------------------------------------------------------\u001b[0m",
      "\u001b[1;31mNameError\u001b[0m                                 Traceback (most recent call last)",
      "Cell \u001b[1;32mIn[12], line 1\u001b[0m\n\u001b[1;32m----> 1\u001b[0m svm_model_in, svm_model_pos, accuracy_in, accuracy_pos \u001b[38;5;241m=\u001b[39m \u001b[43mfsl\u001b[49m\u001b[38;5;241m.\u001b[39mcreate_model(\u001b[38;5;241m17\u001b[39m, df_exploitable, random_state\u001b[38;5;241m=\u001b[39m\u001b[38;5;241m42\u001b[39m, nb_letters \u001b[38;5;241m=\u001b[39m \u001b[38;5;241m26\u001b[39m, kernel_in \u001b[38;5;241m=\u001b[39m best_results[\u001b[38;5;124m'\u001b[39m\u001b[38;5;124mkernel_in\u001b[39m\u001b[38;5;124m'\u001b[39m], kernel_pos \u001b[38;5;241m=\u001b[39m best_results[\u001b[38;5;124m'\u001b[39m\u001b[38;5;124mkernel_pos\u001b[39m\u001b[38;5;124m'\u001b[39m], C_in \u001b[38;5;241m=\u001b[39m best_results[\u001b[38;5;124m'\u001b[39m\u001b[38;5;124mC_in\u001b[39m\u001b[38;5;124m'\u001b[39m], C_pos \u001b[38;5;241m=\u001b[39m best_results[\u001b[38;5;124m'\u001b[39m\u001b[38;5;124mC_pos\u001b[39m\u001b[38;5;124m'\u001b[39m])\n",
      "\u001b[1;31mNameError\u001b[0m: name 'fsl' is not defined"
     ]
    }
   ],
   "source": [
    "svm_model_in, svm_model_pos, accuracy_in, accuracy_pos = fsl.create_model(17, df_exploitable, random_state=42, nb_letters = 26, kernel_in = best_results['kernel_in'], kernel_pos = best_results['kernel_pos'], C_in = best_results['C_in'], C_pos = best_results['C_pos'])\n",
    "\n",
    "# svm_model_in.predict(fsl.word_to_vector('LTDACFI').tolist())"
   ]
  },
  {
   "cell_type": "code",
   "execution_count": null,
   "metadata": {},
   "outputs": [
    {
     "name": "stdout",
     "output_type": "stream",
     "text": [
      "0.53\n"
     ]
    }
   ],
   "source": [
    "# print(fsl.find_cleavage(test, threshold = 0.1))\n",
    "pos_pred = np.array([fsl.find_cleavage(X,svm_model_in, svm_model_pos, threshold = 0.0, n= 17) for X in df_exploitable['P_Structure_vector'][:100]])\n",
    "\n",
    "in_pred = 1-np.isnan(pos_pred)\n",
    "\n",
    "pos_pred[in_pred == 0] = 0\n",
    "\n",
    "print(accuracy_score(df_exploitable[\"Annotation_pos\"][:100], pos_pred))"
   ]
  }
 ],
 "metadata": {
  "kernelspec": {
   "display_name": "base",
   "language": "python",
   "name": "python3"
  },
  "language_info": {
   "codemirror_mode": {
    "name": "ipython",
    "version": 3
   },
   "file_extension": ".py",
   "mimetype": "text/x-python",
   "name": "python",
   "nbconvert_exporter": "python",
   "pygments_lexer": "ipython3",
   "version": "3.10.9"
  }
 },
 "nbformat": 4,
 "nbformat_minor": 2
}
