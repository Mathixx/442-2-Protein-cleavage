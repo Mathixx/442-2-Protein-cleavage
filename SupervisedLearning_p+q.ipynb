{
 "cells": [
  {
   "cell_type": "code",
   "execution_count": 1,
   "metadata": {},
   "outputs": [],
   "source": [
    "###########################\n",
    "### MODULES NECESSAIRES ###\n",
    "###########################\n",
    "\n",
    "\n",
    "# Import the necessary libraries\n",
    "import numpy as np\n",
    "import pandas as pd\n",
    "import math\n",
    "import fonctionsSupervisedLearning as fsl\n",
    "\n",
    "from sklearn import svm\n",
    "from sklearn.model_selection import train_test_split\n",
    "from sklearn.metrics import accuracy_score\n",
    "from sklearn.preprocessing import LabelEncoder\n",
    "from sklearn import svm\n",
    "\n",
    "from auxFonctions import AminoAcid"
   ]
  },
  {
   "cell_type": "code",
   "execution_count": 2,
   "metadata": {},
   "outputs": [],
   "source": [
    "# Read data from a file into a list of entries\n",
    "with open('data/SIG_13.red', 'r') as file:\n",
    "    entries = file.read().split('\\n   ')\n",
    "\n"
   ]
  },
  {
   "cell_type": "code",
   "execution_count": 3,
   "metadata": {},
   "outputs": [],
   "source": [
    "##############################\n",
    "## RECUPERATION DES DONNÉES ##\n",
    "##############################\n",
    "\n",
    "\n",
    "# Process each entry\n",
    "processed_entries = [fsl.process_entry(entry) for entry in entries]\n",
    "\n",
    "# Create a DataFrame\n",
    "df = pd.DataFrame(processed_entries)\n",
    "\n",
    "# Get the position of the cleavage site\n",
    "cleavage_site_position = df['Annotation'].apply(lambda x: x.find('C'))\n",
    "\n",
    "# Split the primary structure into a list of amino acids\n",
    "amino_acid_seq = df['Primary Structure'].apply(lambda x: list(x))"
   ]
  },
  {
   "cell_type": "markdown",
   "metadata": {},
   "source": [
    "## Traitement des données"
   ]
  },
  {
   "cell_type": "markdown",
   "metadata": {},
   "source": [
    "Put words in vector and vice versa"
   ]
  },
  {
   "cell_type": "code",
   "execution_count": 4,
   "metadata": {},
   "outputs": [],
   "source": [
    "df_exploitable = fsl.convert_df_to_vectors(df)"
   ]
  },
  {
   "cell_type": "code",
   "execution_count": 24,
   "metadata": {},
   "outputs": [],
   "source": [
    "def create_model_pq(df, kernel = 'linear', C = 1, p = 2, q = 13, random_state = 42):\n",
    "    \n",
    "    X_train, X_test, pos_train, pos_test = fsl.test_train_split_random_pos(df, p+q, random_state=random_state)\n",
    "    pos_train = np.array(pos_train==p)\n",
    "    print(X_train[pos_train==1])\n",
    "    pos_test = np.array(pos_test==p)\n",
    "    svm_model = svm.SVC(kernel=kernel, C=C, random_state=random_state)\n",
    "    svm_model.fit(X_train, pos_train)\n",
    "    pos_predict = svm_model.predict(X_test)\n",
    "    accuracy = accuracy_score(pos_test,pos_predict)\n",
    "    # accuracy = 0\n",
    "    # svm_model = 0\n",
    "    return svm_model,accuracy\n",
    "\n",
    "def find_cleavage_pq (X, svm_model, p:int = 2, q:int = 13, nb_letters = 26):\n",
    "    '''\n",
    "    find the position of the cleavage site in the primary structure using two SVM models\n",
    "    /!\\ the models must be trained before using this function with the same n and nb_letters as the ones used in this function\n",
    "    ### Parameters:\n",
    "    - X: the primary structure as a vector\n",
    "    - svm_model_in: the SVM model that predicts if the subsequence contains the cleavage site\n",
    "    - svm_model_pos: the SVM model that predicts the position of the cleavage site in the subsequence\n",
    "    - threshold: the threshold for the confidence of the prediction\n",
    "    ### Returns:\n",
    "    - the position of the cleavage site if the prediction is confident enough, otherwise Nan\n",
    "    '''\n",
    "    positions = []\n",
    "    for i in range(p*nb_letters, len(X)- q*nb_letters, nb_letters):\n",
    "        test_sub = X[i-p*nb_letters :i + q*nb_letters]\n",
    "        \n",
    "        if svm_model.predict([test_sub]):\n",
    "            position = i//nb_letters\n",
    "            # positions.append(position.item())\n",
    "            return position\n",
    "    return math.nan\n",
    "\n"
   ]
  },
  {
   "cell_type": "markdown",
   "metadata": {},
   "source": [
    "Train"
   ]
  },
  {
   "cell_type": "code",
   "execution_count": 25,
   "metadata": {},
   "outputs": [
    {
     "name": "stdout",
     "output_type": "stream",
     "text": [
      "[[1. 0. 0. ... 0. 0. 0.]\n",
      " [0. 0. 0. ... 0. 0. 0.]\n",
      " [0. 0. 0. ... 0. 0. 0.]\n",
      " ...\n",
      " [0. 0. 0. ... 0. 0. 0.]\n",
      " [0. 0. 0. ... 0. 0. 0.]\n",
      " [0. 0. 0. ... 0. 0. 0.]]\n",
      "0.9468085106382979\n"
     ]
    }
   ],
   "source": [
    "# svm_model_in, svm_model_pos, accuracy_in, accuracy_pos = fsl.create_model(12, df_exploitable, random_state=42, nb_letters = 26, kernel_in = 'rbf', kernel_pos = 'linear', C_in = 1, C_pos = 1)\n",
    "\n",
    "# df_exploitable_100 = df_exploitable.iloc[:,1:100]\n",
    "\n",
    "model, accuracy = create_model_pq(df_exploitable)\n",
    "print(accuracy)\n"
   ]
  },
  {
   "cell_type": "code",
   "execution_count": 22,
   "metadata": {},
   "outputs": [
    {
     "name": "stdout",
     "output_type": "stream",
     "text": [
      "0.11860795454545454\n"
     ]
    }
   ],
   "source": [
    "# print(fsl.find_cleavage(test, threshold = 0.1))\n",
    "pos_pred = np.array([find_cleavage_pq(X,model) for X in df_exploitable['P_Structure_vector']])\n",
    "\n",
    "in_pred = 1-np.isnan(pos_pred)\n",
    "\n",
    "pos_pred[in_pred == 0] = 0\n",
    "\n",
    "print(accuracy_score(df_exploitable[\"Annotation_pos\"], pos_pred))"
   ]
  }
 ],
 "metadata": {
  "kernelspec": {
   "display_name": "base",
   "language": "python",
   "name": "python3"
  },
  "language_info": {
   "codemirror_mode": {
    "name": "ipython",
    "version": 3
   },
   "file_extension": ".py",
   "mimetype": "text/x-python",
   "name": "python",
   "nbconvert_exporter": "python",
   "pygments_lexer": "ipython3",
   "version": "3.10.9"
  }
 },
 "nbformat": 4,
 "nbformat_minor": 2
}
